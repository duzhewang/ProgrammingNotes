{
 "cells": [
  {
   "cell_type": "markdown",
   "metadata": {},
   "source": [
    "## Chapter 18 Inheritance\n",
    "\n",
    "The language feature most often associated with object-oriented programming is inheritance. **Inheritance is the ability to define a new class that is a modified version of an existing class.** "
   ]
  },
  {
   "cell_type": "markdown",
   "metadata": {},
   "source": [
    "### 18.1 Card objects\n",
    "\n",
    "Spades $\\rightarrow$ 3\n",
    "\n",
    "Hearts $\\rightarrow$ 2\n",
    "\n",
    "Diamonds $\\rightarrow$ 1\n",
    "\n",
    "Clubs $\\rightarrow$ 0\n",
    "\n",
    "Jack $\\rightarrow$ 11\n",
    "\n",
    "Queen $\\rightarrow $12\n",
    "\n",
    "King $\\rightarrow$ 13"
   ]
  },
  {
   "cell_type": "code",
   "execution_count": 1,
   "metadata": {},
   "outputs": [],
   "source": [
    "class Card:\n",
    "    \"\"\"Represents a standard playing card.\n",
    "    \"\"\"\n",
    "    def __init__(self, suit=0, rank=2):\n",
    "        self.suit=suit\n",
    "        self.rank=rank\n",
    "    "
   ]
  },
  {
   "cell_type": "code",
   "execution_count": 2,
   "metadata": {},
   "outputs": [],
   "source": [
    "queen_of_diamonds=Card(1,12)"
   ]
  },
  {
   "cell_type": "code",
   "execution_count": 3,
   "metadata": {},
   "outputs": [
    {
     "data": {
      "text/plain": [
       "1"
      ]
     },
     "execution_count": 3,
     "metadata": {},
     "output_type": "execute_result"
    }
   ],
   "source": [
    "queen_of_diamonds.suit"
   ]
  },
  {
   "cell_type": "code",
   "execution_count": 4,
   "metadata": {},
   "outputs": [
    {
     "data": {
      "text/plain": [
       "12"
      ]
     },
     "execution_count": 4,
     "metadata": {},
     "output_type": "execute_result"
    }
   ],
   "source": [
    "queen_of_diamonds.rank"
   ]
  },
  {
   "cell_type": "markdown",
   "metadata": {},
   "source": [
    "### 18.2 Class attributes\n",
    "\n",
    "In order to print Card objets in a way that people can easily read, we need a mapping from the integer codes to the corresponding ranks and suits. "
   ]
  },
  {
   "cell_type": "code",
   "execution_count": 6,
   "metadata": {},
   "outputs": [],
   "source": [
    "class Card:\n",
    "    \"\"\"Represents a standard playing card.\n",
    "    \"\"\"\n",
    "    def __init__(self, suit=0, rank=2):\n",
    "        self.suit=suit\n",
    "        self.rank=rank\n",
    "        \n",
    "    suit_names=[\"Clubs\", \"Diamonds\", \"Hearts\", \"Spades\"]\n",
    "    rank_names=[None, \"Ace\", \"2\", \"3\", \"4\", \"5\", \"6\", \"7\", \"8\", \"9\", \"10\", \"Jack\", \"Queen\", \"King\"]\n",
    "    \n",
    "    def __str__(self):\n",
    "        return \"{} of {}\".format(Card.rank_names[self.rank], Card.suit_names[self.suit])\n",
    "    \n",
    "    "
   ]
  },
  {
   "cell_type": "markdown",
   "metadata": {},
   "source": [
    "Variables like ```suit_names``` and ```rank_names```, which are defined inside a class but outside of any method, are called **class attributes** because they are associated with the class object.   "
   ]
  },
  {
   "cell_type": "code",
   "execution_count": 9,
   "metadata": {},
   "outputs": [
    {
     "data": {
      "text/plain": [
       "['Clubs', 'Diamonds', 'Hearts', 'Spades']"
      ]
     },
     "execution_count": 9,
     "metadata": {},
     "output_type": "execute_result"
    }
   ],
   "source": [
    "Card.suit_names"
   ]
  },
  {
   "cell_type": "code",
   "execution_count": 10,
   "metadata": {
    "scrolled": true
   },
   "outputs": [
    {
     "data": {
      "text/plain": [
       "[None,\n",
       " 'Ace',\n",
       " '2',\n",
       " '3',\n",
       " '4',\n",
       " '5',\n",
       " '6',\n",
       " '7',\n",
       " '8',\n",
       " '9',\n",
       " '10',\n",
       " 'Jack',\n",
       " 'Queen',\n",
       " 'King']"
      ]
     },
     "execution_count": 10,
     "metadata": {},
     "output_type": "execute_result"
    }
   ],
   "source": [
    "Card.rank_names"
   ]
  },
  {
   "cell_type": "code",
   "execution_count": 11,
   "metadata": {},
   "outputs": [
    {
     "data": {
      "text/plain": [
       "list"
      ]
     },
     "execution_count": 11,
     "metadata": {},
     "output_type": "execute_result"
    }
   ],
   "source": [
    "type(Card.rank_names)"
   ]
  },
  {
   "cell_type": "code",
   "execution_count": 12,
   "metadata": {},
   "outputs": [],
   "source": [
    "card1=Card(2,11)"
   ]
  },
  {
   "cell_type": "code",
   "execution_count": 13,
   "metadata": {},
   "outputs": [
    {
     "data": {
      "text/plain": [
       "<__main__.Card at 0x10bc162e0>"
      ]
     },
     "execution_count": 13,
     "metadata": {},
     "output_type": "execute_result"
    }
   ],
   "source": [
    "card1"
   ]
  },
  {
   "cell_type": "code",
   "execution_count": 14,
   "metadata": {},
   "outputs": [
    {
     "data": {
      "text/plain": [
       "'Jack of Hearts'"
      ]
     },
     "execution_count": 14,
     "metadata": {},
     "output_type": "execute_result"
    }
   ],
   "source": [
    "card1.__str__()"
   ]
  },
  {
   "cell_type": "code",
   "execution_count": 15,
   "metadata": {},
   "outputs": [
    {
     "name": "stdout",
     "output_type": "stream",
     "text": [
      "Jack of Hearts\n"
     ]
    }
   ],
   "source": [
    "print(card1)"
   ]
  },
  {
   "cell_type": "code",
   "execution_count": 17,
   "metadata": {},
   "outputs": [
    {
     "data": {
      "text/plain": [
       "2"
      ]
     },
     "execution_count": 17,
     "metadata": {},
     "output_type": "execute_result"
    }
   ],
   "source": [
    "card1.suit"
   ]
  },
  {
   "cell_type": "code",
   "execution_count": 18,
   "metadata": {},
   "outputs": [
    {
     "data": {
      "text/plain": [
       "11"
      ]
     },
     "execution_count": 18,
     "metadata": {},
     "output_type": "execute_result"
    }
   ],
   "source": [
    "card1.rank"
   ]
  },
  {
   "cell_type": "markdown",
   "metadata": {},
   "source": [
    "### 18.3 Comparing cards"
   ]
  },
  {
   "cell_type": "code",
   "execution_count": 19,
   "metadata": {},
   "outputs": [],
   "source": [
    "class Card:\n",
    "    \"\"\"Represents a standard playing card.\n",
    "    \"\"\"\n",
    "    def __init__(self, suit=0, rank=2):\n",
    "        self.suit=suit\n",
    "        self.rank=rank\n",
    "        \n",
    "    suit_names=[\"Clubs\", \"Diamonds\", \"Hearts\", \"Spades\"]\n",
    "    rank_names=[None, \"Ace\", \"2\", \"3\", \"4\", \"5\", \"6\", \"7\", \"8\", \"9\", \"10\", \"Jack\", \"Queen\", \"King\"]\n",
    "    \n",
    "    def __str__(self):\n",
    "        return \"{} of {}\".format(Card.rank_names[self.rank], Card.suit_names[self.suit])\n",
    "\n",
    "    def __lt__(self, other):\n",
    "        # check the suits\n",
    "        if self.suit<other.suit: \n",
    "            return True\n",
    "        if self.suit>other.suit:\n",
    "            return False\n",
    "        # suits are the same, then check ranks\n",
    "        return self.rank<other.rank\n",
    "    \n",
    "    "
   ]
  },
  {
   "cell_type": "code",
   "execution_count": 20,
   "metadata": {},
   "outputs": [],
   "source": [
    "card1=Card(1,11)\n",
    "card2=Card(2,9)"
   ]
  },
  {
   "cell_type": "code",
   "execution_count": 21,
   "metadata": {},
   "outputs": [
    {
     "name": "stdout",
     "output_type": "stream",
     "text": [
      "Jack of Diamonds\n"
     ]
    }
   ],
   "source": [
    "print(card1)"
   ]
  },
  {
   "cell_type": "code",
   "execution_count": 22,
   "metadata": {},
   "outputs": [
    {
     "name": "stdout",
     "output_type": "stream",
     "text": [
      "9 of Hearts\n"
     ]
    }
   ],
   "source": [
    "print(card2)"
   ]
  },
  {
   "cell_type": "code",
   "execution_count": 23,
   "metadata": {},
   "outputs": [
    {
     "data": {
      "text/plain": [
       "True"
      ]
     },
     "execution_count": 23,
     "metadata": {},
     "output_type": "execute_result"
    }
   ],
   "source": [
    "card1.__lt__(card2)"
   ]
  },
  {
   "cell_type": "markdown",
   "metadata": {},
   "source": [
    "**Use tuple comparison**:"
   ]
  },
  {
   "cell_type": "code",
   "execution_count": 35,
   "metadata": {},
   "outputs": [],
   "source": [
    "class Card:\n",
    "    \"\"\"Represents a standard playing card.\n",
    "    \"\"\"\n",
    "    def __init__(self, suit=0, rank=2):\n",
    "        self.suit=suit\n",
    "        self.rank=rank\n",
    "        \n",
    "    suit_names=[\"Clubs\", \"Diamonds\", \"Hearts\", \"Spades\"]\n",
    "    rank_names=[None, \"Ace\", \"2\", \"3\", \"4\", \"5\", \"6\", \"7\", \"8\", \"9\", \"10\", \"Jack\", \"Queen\", \"King\"]\n",
    "    \n",
    "    def __str__(self):\n",
    "        return \"{} of {}\".format(Card.rank_names[self.rank], Card.suit_names[self.suit])\n",
    "\n",
    "    def __lt__(self, other):\n",
    "        t1=self.suit, self.rank\n",
    "        t2=other.suit, other.rank\n",
    "        return t1<t2\n",
    "        "
   ]
  },
  {
   "cell_type": "code",
   "execution_count": 36,
   "metadata": {},
   "outputs": [],
   "source": [
    "card1=Card(1,11)\n",
    "card2=Card(2,9)"
   ]
  },
  {
   "cell_type": "code",
   "execution_count": 37,
   "metadata": {},
   "outputs": [
    {
     "data": {
      "text/plain": [
       "True"
      ]
     },
     "execution_count": 37,
     "metadata": {},
     "output_type": "execute_result"
    }
   ],
   "source": [
    "card1.__lt__(card2)"
   ]
  },
  {
   "cell_type": "markdown",
   "metadata": {},
   "source": [
    "**Exercise**:\n"
   ]
  },
  {
   "cell_type": "code",
   "execution_count": 39,
   "metadata": {},
   "outputs": [],
   "source": [
    "class Time:\n",
    "    \"\"\"Represents time of a day.\n",
    "    \"\"\"\n",
    "    def __init__(self, hour=0, minute=0, second=0):\n",
    "        self.hour=hour\n",
    "        self.minute=minute\n",
    "        self.second=second\n",
    "        \n",
    "    def  __str__(self):\n",
    "        return \"{}:{}:{}\".format(self.hour, self.minute, self.second)\n",
    "    \n",
    "    def __lt__(self, other):\n",
    "        t1=self.hour, self.minute, self.second\n",
    "        t2=other.hour, other.minute, other.second\n",
    "        return t1<t2"
   ]
  },
  {
   "cell_type": "code",
   "execution_count": 40,
   "metadata": {},
   "outputs": [],
   "source": [
    "time1=Time(11, 26, 0)"
   ]
  },
  {
   "cell_type": "code",
   "execution_count": 41,
   "metadata": {},
   "outputs": [],
   "source": [
    "time2=Time(8, 56, 10)"
   ]
  },
  {
   "cell_type": "code",
   "execution_count": 42,
   "metadata": {},
   "outputs": [
    {
     "name": "stdout",
     "output_type": "stream",
     "text": [
      "11:26:0\n"
     ]
    }
   ],
   "source": [
    "print(time1)"
   ]
  },
  {
   "cell_type": "code",
   "execution_count": 43,
   "metadata": {},
   "outputs": [
    {
     "name": "stdout",
     "output_type": "stream",
     "text": [
      "8:56:10\n"
     ]
    }
   ],
   "source": [
    "print(time2)"
   ]
  },
  {
   "cell_type": "code",
   "execution_count": 44,
   "metadata": {},
   "outputs": [
    {
     "data": {
      "text/plain": [
       "False"
      ]
     },
     "execution_count": 44,
     "metadata": {},
     "output_type": "execute_result"
    }
   ],
   "source": [
    "time1.__lt__(time2)"
   ]
  },
  {
   "cell_type": "code",
   "execution_count": 45,
   "metadata": {},
   "outputs": [
    {
     "data": {
      "text/plain": [
       "True"
      ]
     },
     "execution_count": 45,
     "metadata": {},
     "output_type": "execute_result"
    }
   ],
   "source": [
    "time2.__lt__(time1)"
   ]
  },
  {
   "cell_type": "markdown",
   "metadata": {},
   "source": [
    "### 18.4 Decks"
   ]
  },
  {
   "cell_type": "code",
   "execution_count": 54,
   "metadata": {},
   "outputs": [],
   "source": [
    "class Deck:\n",
    "    \"\"\"Represents a deck. \n",
    "    \"\"\"\n",
    "    \n",
    "    def __init__(self):\n",
    "        self.cards=[]\n",
    "        for suit in range(4):\n",
    "            for rank in range(1, 14):\n",
    "                card=Card(suit, rank)\n",
    "                self.cards.append(card)"
   ]
  },
  {
   "cell_type": "markdown",
   "metadata": {},
   "source": [
    "### 18.5 Printing the deck"
   ]
  },
  {
   "cell_type": "code",
   "execution_count": 76,
   "metadata": {},
   "outputs": [],
   "source": [
    "class Deck:\n",
    "    \"\"\"Represents a deck. \n",
    "    \"\"\"\n",
    "    \n",
    "    def __init__(self):\n",
    "        self.cards=[]\n",
    "        for suit in range(4):\n",
    "            for rank in range(1, 14):\n",
    "                card=Card(suit, rank)\n",
    "                self.cards.append(card)\n",
    "               \n",
    "    def __str__(self):\n",
    "        res=[]\n",
    "        for card in self.cards:\n",
    "            res.append(str(card))\n",
    "        return \"\\n\".join(res)    "
   ]
  },
  {
   "cell_type": "code",
   "execution_count": 77,
   "metadata": {},
   "outputs": [],
   "source": [
    "deck=Deck()"
   ]
  },
  {
   "cell_type": "code",
   "execution_count": 78,
   "metadata": {},
   "outputs": [
    {
     "name": "stdout",
     "output_type": "stream",
     "text": [
      "Ace of Clubs\n",
      "2 of Clubs\n",
      "3 of Clubs\n",
      "4 of Clubs\n",
      "5 of Clubs\n",
      "6 of Clubs\n",
      "7 of Clubs\n",
      "8 of Clubs\n",
      "9 of Clubs\n",
      "10 of Clubs\n",
      "Jack of Clubs\n",
      "Queen of Clubs\n",
      "King of Clubs\n",
      "Ace of Diamonds\n",
      "2 of Diamonds\n",
      "3 of Diamonds\n",
      "4 of Diamonds\n",
      "5 of Diamonds\n",
      "6 of Diamonds\n",
      "7 of Diamonds\n",
      "8 of Diamonds\n",
      "9 of Diamonds\n",
      "10 of Diamonds\n",
      "Jack of Diamonds\n",
      "Queen of Diamonds\n",
      "King of Diamonds\n",
      "Ace of Hearts\n",
      "2 of Hearts\n",
      "3 of Hearts\n",
      "4 of Hearts\n",
      "5 of Hearts\n",
      "6 of Hearts\n",
      "7 of Hearts\n",
      "8 of Hearts\n",
      "9 of Hearts\n",
      "10 of Hearts\n",
      "Jack of Hearts\n",
      "Queen of Hearts\n",
      "King of Hearts\n",
      "Ace of Spades\n",
      "2 of Spades\n",
      "3 of Spades\n",
      "4 of Spades\n",
      "5 of Spades\n",
      "6 of Spades\n",
      "7 of Spades\n",
      "8 of Spades\n",
      "9 of Spades\n",
      "10 of Spades\n",
      "Jack of Spades\n",
      "Queen of Spades\n",
      "King of Spades\n"
     ]
    }
   ],
   "source": [
    "print(deck)"
   ]
  },
  {
   "cell_type": "markdown",
   "metadata": {},
   "source": [
    "Or: "
   ]
  },
  {
   "cell_type": "code",
   "execution_count": 79,
   "metadata": {},
   "outputs": [],
   "source": [
    "class Deck:\n",
    "    \"\"\"Represents a deck. \n",
    "    \"\"\"\n",
    "    \n",
    "    def __init__(self):\n",
    "        self.cards=[]\n",
    "        for suit in range(4):\n",
    "            for rank in range(1, 14):\n",
    "                card=Card(suit, rank)\n",
    "                self.cards.append(card)\n",
    "               \n",
    "    def __str__(self):\n",
    "        res=[]\n",
    "        for card in self.cards:\n",
    "            res.append(card.__str__())\n",
    "        return \"\\n\".join(res)  "
   ]
  },
  {
   "cell_type": "code",
   "execution_count": 80,
   "metadata": {},
   "outputs": [],
   "source": [
    "deck=Deck()"
   ]
  },
  {
   "cell_type": "code",
   "execution_count": 81,
   "metadata": {
    "scrolled": true
   },
   "outputs": [
    {
     "name": "stdout",
     "output_type": "stream",
     "text": [
      "Ace of Clubs\n",
      "2 of Clubs\n",
      "3 of Clubs\n",
      "4 of Clubs\n",
      "5 of Clubs\n",
      "6 of Clubs\n",
      "7 of Clubs\n",
      "8 of Clubs\n",
      "9 of Clubs\n",
      "10 of Clubs\n",
      "Jack of Clubs\n",
      "Queen of Clubs\n",
      "King of Clubs\n",
      "Ace of Diamonds\n",
      "2 of Diamonds\n",
      "3 of Diamonds\n",
      "4 of Diamonds\n",
      "5 of Diamonds\n",
      "6 of Diamonds\n",
      "7 of Diamonds\n",
      "8 of Diamonds\n",
      "9 of Diamonds\n",
      "10 of Diamonds\n",
      "Jack of Diamonds\n",
      "Queen of Diamonds\n",
      "King of Diamonds\n",
      "Ace of Hearts\n",
      "2 of Hearts\n",
      "3 of Hearts\n",
      "4 of Hearts\n",
      "5 of Hearts\n",
      "6 of Hearts\n",
      "7 of Hearts\n",
      "8 of Hearts\n",
      "9 of Hearts\n",
      "10 of Hearts\n",
      "Jack of Hearts\n",
      "Queen of Hearts\n",
      "King of Hearts\n",
      "Ace of Spades\n",
      "2 of Spades\n",
      "3 of Spades\n",
      "4 of Spades\n",
      "5 of Spades\n",
      "6 of Spades\n",
      "7 of Spades\n",
      "8 of Spades\n",
      "9 of Spades\n",
      "10 of Spades\n",
      "Jack of Spades\n",
      "Queen of Spades\n",
      "King of Spades\n"
     ]
    }
   ],
   "source": [
    "print(deck)"
   ]
  },
  {
   "cell_type": "markdown",
   "metadata": {},
   "source": [
    "### 18.6 Add, remove, shuffle, and sort"
   ]
  },
  {
   "cell_type": "code",
   "execution_count": 1,
   "metadata": {},
   "outputs": [],
   "source": [
    "import random\n",
    "\n",
    "class Card:\n",
    "    \"\"\"Represents a card.\n",
    "    \"\"\"\n",
    "    \n",
    "    def __init__(self, suit=0, rank=2):\n",
    "        self.suit=suit\n",
    "        self.rank=rank\n",
    "        \n",
    "    suit_names=[\"Clubs\", \"Diamonds\", \"Hearts\", \"Spades\"]\n",
    "    rank_names=[None, \"Ace\", \"2\", \"3\", \"4\", \"5\", \"6\", \"7\", \"8\", \"9\", \"10\", \"Jack\", \"Queen\", \"King\"]\n",
    "        \n",
    "    def __str__(self):\n",
    "        return \"{} of {}\".format(Card.rank_names[self.rank], Card.suit_names[self.suit])\n",
    "        \n",
    "\n",
    "\n",
    "class Deck:\n",
    "     \"\"\"Represents a deck.\n",
    "     \"\"\"\n",
    "     def __init__(self):\n",
    "        self.cards=[]\n",
    "        for suit in range(4):\n",
    "            for rank in range(1, 14):\n",
    "                card=Card(suit, rank)\n",
    "                self.cards.append(card)\n",
    "     def __str__(self):\n",
    "        res=[]\n",
    "        for card in self.cards:\n",
    "            res.append(str(card))\n",
    "        return \"\\n\".join(res)    \n",
    "    \n",
    "     # remove a card from the deck\n",
    "     def pop_card(self):\n",
    "        return self.cards.pop()\n",
    "    \n",
    "     # add a card\n",
    "     def add_card(self, card):\n",
    "        self.cards.append(card)\n",
    "        \n",
    "     # shuffle \n",
    "     def shuffle(self):\n",
    "         random.shuffle(self.cards)   "
   ]
  },
  {
   "cell_type": "code",
   "execution_count": 2,
   "metadata": {},
   "outputs": [],
   "source": [
    "deck=Deck()"
   ]
  },
  {
   "cell_type": "code",
   "execution_count": 3,
   "metadata": {},
   "outputs": [
    {
     "name": "stdout",
     "output_type": "stream",
     "text": [
      "Ace of Clubs\n",
      "2 of Clubs\n",
      "3 of Clubs\n",
      "4 of Clubs\n",
      "5 of Clubs\n",
      "6 of Clubs\n",
      "7 of Clubs\n",
      "8 of Clubs\n",
      "9 of Clubs\n",
      "10 of Clubs\n",
      "Jack of Clubs\n",
      "Queen of Clubs\n",
      "King of Clubs\n",
      "Ace of Diamonds\n",
      "2 of Diamonds\n",
      "3 of Diamonds\n",
      "4 of Diamonds\n",
      "5 of Diamonds\n",
      "6 of Diamonds\n",
      "7 of Diamonds\n",
      "8 of Diamonds\n",
      "9 of Diamonds\n",
      "10 of Diamonds\n",
      "Jack of Diamonds\n",
      "Queen of Diamonds\n",
      "King of Diamonds\n",
      "Ace of Hearts\n",
      "2 of Hearts\n",
      "3 of Hearts\n",
      "4 of Hearts\n",
      "5 of Hearts\n",
      "6 of Hearts\n",
      "7 of Hearts\n",
      "8 of Hearts\n",
      "9 of Hearts\n",
      "10 of Hearts\n",
      "Jack of Hearts\n",
      "Queen of Hearts\n",
      "King of Hearts\n",
      "Ace of Spades\n",
      "2 of Spades\n",
      "3 of Spades\n",
      "4 of Spades\n",
      "5 of Spades\n",
      "6 of Spades\n",
      "7 of Spades\n",
      "8 of Spades\n",
      "9 of Spades\n",
      "10 of Spades\n",
      "Jack of Spades\n",
      "Queen of Spades\n",
      "King of Spades\n"
     ]
    }
   ],
   "source": [
    "print(deck)"
   ]
  },
  {
   "cell_type": "code",
   "execution_count": 4,
   "metadata": {},
   "outputs": [
    {
     "data": {
      "text/plain": [
       "<__main__.Card at 0x1115dd0d0>"
      ]
     },
     "execution_count": 4,
     "metadata": {},
     "output_type": "execute_result"
    }
   ],
   "source": [
    "deck.pop_card()"
   ]
  },
  {
   "cell_type": "code",
   "execution_count": 5,
   "metadata": {},
   "outputs": [
    {
     "name": "stdout",
     "output_type": "stream",
     "text": [
      "Ace of Clubs\n",
      "2 of Clubs\n",
      "3 of Clubs\n",
      "4 of Clubs\n",
      "5 of Clubs\n",
      "6 of Clubs\n",
      "7 of Clubs\n",
      "8 of Clubs\n",
      "9 of Clubs\n",
      "10 of Clubs\n",
      "Jack of Clubs\n",
      "Queen of Clubs\n",
      "King of Clubs\n",
      "Ace of Diamonds\n",
      "2 of Diamonds\n",
      "3 of Diamonds\n",
      "4 of Diamonds\n",
      "5 of Diamonds\n",
      "6 of Diamonds\n",
      "7 of Diamonds\n",
      "8 of Diamonds\n",
      "9 of Diamonds\n",
      "10 of Diamonds\n",
      "Jack of Diamonds\n",
      "Queen of Diamonds\n",
      "King of Diamonds\n",
      "Ace of Hearts\n",
      "2 of Hearts\n",
      "3 of Hearts\n",
      "4 of Hearts\n",
      "5 of Hearts\n",
      "6 of Hearts\n",
      "7 of Hearts\n",
      "8 of Hearts\n",
      "9 of Hearts\n",
      "10 of Hearts\n",
      "Jack of Hearts\n",
      "Queen of Hearts\n",
      "King of Hearts\n",
      "Ace of Spades\n",
      "2 of Spades\n",
      "3 of Spades\n",
      "4 of Spades\n",
      "5 of Spades\n",
      "6 of Spades\n",
      "7 of Spades\n",
      "8 of Spades\n",
      "9 of Spades\n",
      "10 of Spades\n",
      "Jack of Spades\n",
      "Queen of Spades\n"
     ]
    }
   ],
   "source": [
    "print(deck)"
   ]
  },
  {
   "cell_type": "code",
   "execution_count": 6,
   "metadata": {},
   "outputs": [],
   "source": [
    "card=Card(1,2)"
   ]
  },
  {
   "cell_type": "code",
   "execution_count": 7,
   "metadata": {},
   "outputs": [
    {
     "name": "stdout",
     "output_type": "stream",
     "text": [
      "2 of Diamonds\n"
     ]
    }
   ],
   "source": [
    "print(card)"
   ]
  },
  {
   "cell_type": "code",
   "execution_count": 8,
   "metadata": {},
   "outputs": [],
   "source": [
    "deck.add_card(card)"
   ]
  },
  {
   "cell_type": "code",
   "execution_count": 9,
   "metadata": {},
   "outputs": [
    {
     "name": "stdout",
     "output_type": "stream",
     "text": [
      "Ace of Clubs\n",
      "2 of Clubs\n",
      "3 of Clubs\n",
      "4 of Clubs\n",
      "5 of Clubs\n",
      "6 of Clubs\n",
      "7 of Clubs\n",
      "8 of Clubs\n",
      "9 of Clubs\n",
      "10 of Clubs\n",
      "Jack of Clubs\n",
      "Queen of Clubs\n",
      "King of Clubs\n",
      "Ace of Diamonds\n",
      "2 of Diamonds\n",
      "3 of Diamonds\n",
      "4 of Diamonds\n",
      "5 of Diamonds\n",
      "6 of Diamonds\n",
      "7 of Diamonds\n",
      "8 of Diamonds\n",
      "9 of Diamonds\n",
      "10 of Diamonds\n",
      "Jack of Diamonds\n",
      "Queen of Diamonds\n",
      "King of Diamonds\n",
      "Ace of Hearts\n",
      "2 of Hearts\n",
      "3 of Hearts\n",
      "4 of Hearts\n",
      "5 of Hearts\n",
      "6 of Hearts\n",
      "7 of Hearts\n",
      "8 of Hearts\n",
      "9 of Hearts\n",
      "10 of Hearts\n",
      "Jack of Hearts\n",
      "Queen of Hearts\n",
      "King of Hearts\n",
      "Ace of Spades\n",
      "2 of Spades\n",
      "3 of Spades\n",
      "4 of Spades\n",
      "5 of Spades\n",
      "6 of Spades\n",
      "7 of Spades\n",
      "8 of Spades\n",
      "9 of Spades\n",
      "10 of Spades\n",
      "Jack of Spades\n",
      "Queen of Spades\n",
      "2 of Diamonds\n"
     ]
    }
   ],
   "source": [
    "print(deck)"
   ]
  },
  {
   "cell_type": "code",
   "execution_count": 10,
   "metadata": {},
   "outputs": [],
   "source": [
    "deck.shuffle()"
   ]
  },
  {
   "cell_type": "code",
   "execution_count": 11,
   "metadata": {},
   "outputs": [
    {
     "name": "stdout",
     "output_type": "stream",
     "text": [
      "King of Clubs\n",
      "9 of Clubs\n",
      "2 of Clubs\n",
      "2 of Diamonds\n",
      "Queen of Diamonds\n",
      "10 of Clubs\n",
      "Jack of Diamonds\n",
      "3 of Diamonds\n",
      "4 of Hearts\n",
      "Ace of Diamonds\n",
      "3 of Clubs\n",
      "8 of Diamonds\n",
      "5 of Spades\n",
      "King of Diamonds\n",
      "10 of Diamonds\n",
      "8 of Hearts\n",
      "7 of Spades\n",
      "5 of Clubs\n",
      "7 of Clubs\n",
      "2 of Diamonds\n",
      "6 of Clubs\n",
      "Jack of Hearts\n",
      "3 of Hearts\n",
      "4 of Clubs\n",
      "5 of Hearts\n",
      "9 of Hearts\n",
      "5 of Diamonds\n",
      "7 of Hearts\n",
      "Ace of Clubs\n",
      "2 of Hearts\n",
      "6 of Hearts\n",
      "Queen of Spades\n",
      "Ace of Spades\n",
      "7 of Diamonds\n",
      "Queen of Hearts\n",
      "3 of Spades\n",
      "9 of Diamonds\n",
      "10 of Spades\n",
      "8 of Spades\n",
      "6 of Spades\n",
      "8 of Clubs\n",
      "Jack of Clubs\n",
      "10 of Hearts\n",
      "4 of Diamonds\n",
      "2 of Spades\n",
      "Queen of Clubs\n",
      "Jack of Spades\n",
      "4 of Spades\n",
      "King of Hearts\n",
      "9 of Spades\n",
      "Ace of Hearts\n",
      "6 of Diamonds\n"
     ]
    }
   ],
   "source": [
    "print(deck)"
   ]
  },
  {
   "cell_type": "markdown",
   "metadata": {},
   "source": [
    "**Exercise**:"
   ]
  },
  {
   "cell_type": "code",
   "execution_count": 12,
   "metadata": {},
   "outputs": [],
   "source": [
    "class Card:\n",
    "    \"\"\"Represents a card.\n",
    "    \"\"\"\n",
    "    \n",
    "    def __init__(self, suit=0, rank=2):\n",
    "        self.suit=suit\n",
    "        self.rank=rank\n",
    "        \n",
    "    suit_names=[\"Clubs\", \"Diamonds\", \"Hearts\", \"Spades\"]\n",
    "    rank_names=[None, \"Ace\", \"2\", \"3\", \"4\", \"5\", \"6\", \"7\", \"8\", \"9\", \"10\", \"Jack\", \"Queen\", \"King\"]\n",
    "        \n",
    "    def __str__(self):\n",
    "        return \"{} of {}\".format(Card.rank_names[self.rank], Card.suit_names[self.suit])\n",
    "    \n",
    "    def __lt__(self, other):\n",
    "        t1=self.suit, self.rank\n",
    "        t2=self.suit, self.rank\n",
    "        return t1<t2\n",
    "        \n",
    "\n",
    "\n",
    "\n",
    "\n",
    "\n",
    "\n",
    "\n",
    "class Deck:\n",
    "     \"\"\"Represents a deck.\n",
    "     \"\"\"\n",
    "     def __init__(self):\n",
    "        self.cards=[]\n",
    "        for suit in range(4):\n",
    "            for rank in range(1, 14):\n",
    "                card=Card(suit, rank)\n",
    "                self.cards.append(card)\n",
    "     def __str__(self):\n",
    "        res=[]\n",
    "        for card in self.cards:\n",
    "            res.append(str(card))\n",
    "        return \"\\n\".join(res)    \n",
    "    \n",
    "     # remove a card from the deck\n",
    "     def pop_card(self):\n",
    "        return self.cards.pop()\n",
    "    \n",
    "     # add a card\n",
    "     def add_card(self, card):\n",
    "        self.cards.append(card)\n",
    "        \n",
    "     # shuffle \n",
    "     def shuffle(self):\n",
    "         random.shuffle(self.cards)   \n",
    "    \n",
    "      ## sort \n",
    "     def sort_card(self):\n",
    "         self.cards.sort() \n",
    "  \n",
    "            "
   ]
  },
  {
   "cell_type": "code",
   "execution_count": 13,
   "metadata": {},
   "outputs": [],
   "source": [
    "deck=Deck()"
   ]
  },
  {
   "cell_type": "code",
   "execution_count": 14,
   "metadata": {},
   "outputs": [
    {
     "name": "stdout",
     "output_type": "stream",
     "text": [
      "Ace of Clubs\n",
      "2 of Clubs\n",
      "3 of Clubs\n",
      "4 of Clubs\n",
      "5 of Clubs\n",
      "6 of Clubs\n",
      "7 of Clubs\n",
      "8 of Clubs\n",
      "9 of Clubs\n",
      "10 of Clubs\n",
      "Jack of Clubs\n",
      "Queen of Clubs\n",
      "King of Clubs\n",
      "Ace of Diamonds\n",
      "2 of Diamonds\n",
      "3 of Diamonds\n",
      "4 of Diamonds\n",
      "5 of Diamonds\n",
      "6 of Diamonds\n",
      "7 of Diamonds\n",
      "8 of Diamonds\n",
      "9 of Diamonds\n",
      "10 of Diamonds\n",
      "Jack of Diamonds\n",
      "Queen of Diamonds\n",
      "King of Diamonds\n",
      "Ace of Hearts\n",
      "2 of Hearts\n",
      "3 of Hearts\n",
      "4 of Hearts\n",
      "5 of Hearts\n",
      "6 of Hearts\n",
      "7 of Hearts\n",
      "8 of Hearts\n",
      "9 of Hearts\n",
      "10 of Hearts\n",
      "Jack of Hearts\n",
      "Queen of Hearts\n",
      "King of Hearts\n",
      "Ace of Spades\n",
      "2 of Spades\n",
      "3 of Spades\n",
      "4 of Spades\n",
      "5 of Spades\n",
      "6 of Spades\n",
      "7 of Spades\n",
      "8 of Spades\n",
      "9 of Spades\n",
      "10 of Spades\n",
      "Jack of Spades\n",
      "Queen of Spades\n",
      "King of Spades\n"
     ]
    }
   ],
   "source": [
    "print(deck)"
   ]
  },
  {
   "cell_type": "code",
   "execution_count": 15,
   "metadata": {},
   "outputs": [],
   "source": [
    "deck.shuffle()"
   ]
  },
  {
   "cell_type": "code",
   "execution_count": 16,
   "metadata": {
    "scrolled": true
   },
   "outputs": [
    {
     "name": "stdout",
     "output_type": "stream",
     "text": [
      "King of Hearts\n",
      "5 of Hearts\n",
      "Jack of Diamonds\n",
      "Jack of Hearts\n",
      "8 of Diamonds\n",
      "3 of Hearts\n",
      "Ace of Hearts\n",
      "10 of Clubs\n",
      "3 of Clubs\n",
      "9 of Clubs\n",
      "6 of Clubs\n",
      "9 of Spades\n",
      "8 of Clubs\n",
      "Queen of Spades\n",
      "2 of Clubs\n",
      "King of Spades\n",
      "4 of Clubs\n",
      "3 of Spades\n",
      "Queen of Hearts\n",
      "8 of Hearts\n",
      "9 of Diamonds\n",
      "2 of Diamonds\n",
      "5 of Diamonds\n",
      "6 of Diamonds\n",
      "5 of Spades\n",
      "Jack of Clubs\n",
      "King of Diamonds\n",
      "Jack of Spades\n",
      "Ace of Diamonds\n",
      "7 of Hearts\n",
      "Queen of Diamonds\n",
      "7 of Diamonds\n",
      "2 of Spades\n",
      "4 of Hearts\n",
      "6 of Spades\n",
      "10 of Spades\n",
      "6 of Hearts\n",
      "Ace of Clubs\n",
      "10 of Diamonds\n",
      "10 of Hearts\n",
      "7 of Clubs\n",
      "3 of Diamonds\n",
      "7 of Spades\n",
      "King of Clubs\n",
      "Ace of Spades\n",
      "4 of Spades\n",
      "Queen of Clubs\n",
      "5 of Clubs\n",
      "8 of Spades\n",
      "2 of Hearts\n",
      "4 of Diamonds\n",
      "9 of Hearts\n"
     ]
    }
   ],
   "source": [
    "print(deck)"
   ]
  },
  {
   "cell_type": "code",
   "execution_count": 17,
   "metadata": {},
   "outputs": [],
   "source": [
    "deck.sort_card()"
   ]
  },
  {
   "cell_type": "code",
   "execution_count": 18,
   "metadata": {
    "scrolled": false
   },
   "outputs": [
    {
     "name": "stdout",
     "output_type": "stream",
     "text": [
      "King of Hearts\n",
      "5 of Hearts\n",
      "Jack of Diamonds\n",
      "Jack of Hearts\n",
      "8 of Diamonds\n",
      "3 of Hearts\n",
      "Ace of Hearts\n",
      "10 of Clubs\n",
      "3 of Clubs\n",
      "9 of Clubs\n",
      "6 of Clubs\n",
      "9 of Spades\n",
      "8 of Clubs\n",
      "Queen of Spades\n",
      "2 of Clubs\n",
      "King of Spades\n",
      "4 of Clubs\n",
      "3 of Spades\n",
      "Queen of Hearts\n",
      "8 of Hearts\n",
      "9 of Diamonds\n",
      "2 of Diamonds\n",
      "5 of Diamonds\n",
      "6 of Diamonds\n",
      "5 of Spades\n",
      "Jack of Clubs\n",
      "King of Diamonds\n",
      "Jack of Spades\n",
      "Ace of Diamonds\n",
      "7 of Hearts\n",
      "Queen of Diamonds\n",
      "7 of Diamonds\n",
      "2 of Spades\n",
      "4 of Hearts\n",
      "6 of Spades\n",
      "10 of Spades\n",
      "6 of Hearts\n",
      "Ace of Clubs\n",
      "10 of Diamonds\n",
      "10 of Hearts\n",
      "7 of Clubs\n",
      "3 of Diamonds\n",
      "7 of Spades\n",
      "King of Clubs\n",
      "Ace of Spades\n",
      "4 of Spades\n",
      "Queen of Clubs\n",
      "5 of Clubs\n",
      "8 of Spades\n",
      "2 of Hearts\n",
      "4 of Diamonds\n",
      "9 of Hearts\n"
     ]
    }
   ],
   "source": [
    "print(deck) #why this result?"
   ]
  },
  {
   "cell_type": "markdown",
   "metadata": {},
   "source": [
    "### 18.7 Inheritance\n",
    "\n",
    "Inheritance is the ability to define a new class that is a modified version of an existing class."
   ]
  },
  {
   "cell_type": "code",
   "execution_count": 45,
   "metadata": {},
   "outputs": [],
   "source": [
    "class Hand(Deck):\n",
    "    \"\"\"Represents a hand of playing cards.\n",
    "    \"\"\"\n",
    "    \n",
    "    def __init__(self, label=\"\"):\n",
    "        self.cards=[]\n",
    "        self.label=label\n",
    "\n",
    "# this definition indicates that Hand inherits from Deck, \n",
    "# that means we can use methods like pop_card and add_card for Hands as well as Decks.    "
   ]
  },
  {
   "cell_type": "markdown",
   "metadata": {},
   "source": [
    "When a new class inherits from an existing one, the existing one is called the parent and the new class is called the child. "
   ]
  },
  {
   "cell_type": "code",
   "execution_count": 46,
   "metadata": {},
   "outputs": [],
   "source": [
    "hand=Hand(\"new hand\")"
   ]
  },
  {
   "cell_type": "code",
   "execution_count": 47,
   "metadata": {},
   "outputs": [
    {
     "data": {
      "text/plain": [
       "[]"
      ]
     },
     "execution_count": 47,
     "metadata": {},
     "output_type": "execute_result"
    }
   ],
   "source": [
    "hand.cards"
   ]
  },
  {
   "cell_type": "code",
   "execution_count": 48,
   "metadata": {},
   "outputs": [
    {
     "data": {
      "text/plain": [
       "'new hand'"
      ]
     },
     "execution_count": 48,
     "metadata": {},
     "output_type": "execute_result"
    }
   ],
   "source": [
    "hand.label"
   ]
  },
  {
   "cell_type": "code",
   "execution_count": 49,
   "metadata": {},
   "outputs": [],
   "source": [
    "deck=Deck()"
   ]
  },
  {
   "cell_type": "code",
   "execution_count": 50,
   "metadata": {},
   "outputs": [],
   "source": [
    "card=deck.pop_card()"
   ]
  },
  {
   "cell_type": "code",
   "execution_count": 51,
   "metadata": {},
   "outputs": [],
   "source": [
    "hand.add_card(card)"
   ]
  },
  {
   "cell_type": "code",
   "execution_count": 52,
   "metadata": {},
   "outputs": [
    {
     "name": "stdout",
     "output_type": "stream",
     "text": [
      "King of Spades\n"
     ]
    }
   ],
   "source": [
    "print(hand)"
   ]
  },
  {
   "cell_type": "markdown",
   "metadata": {},
   "source": [
    "A natural next step is to encapsulate this code in a method called move_cards:"
   ]
  },
  {
   "cell_type": "code",
   "execution_count": 53,
   "metadata": {},
   "outputs": [],
   "source": [
    "class Deck:\n",
    "     \"\"\"Represents a deck.\n",
    "     \"\"\"\n",
    "     def __init__(self):\n",
    "        self.cards=[]\n",
    "        for suit in range(4):\n",
    "            for rank in range(1, 14):\n",
    "                card=Card(suit, rank)\n",
    "                self.cards.append(card)\n",
    "     def __str__(self):\n",
    "        res=[]\n",
    "        for card in self.cards:\n",
    "            res.append(str(card))\n",
    "        return \"\\n\".join(res)    \n",
    "    \n",
    "     # remove a card from the deck\n",
    "     def pop_card(self):\n",
    "        return self.cards.pop()\n",
    "    \n",
    "     # add a card\n",
    "     def add_card(self, card):\n",
    "        self.cards.append(card)\n",
    "        \n",
    "     # shuffle \n",
    "     def shuffle(self):\n",
    "         random.shuffle(self.cards)   \n",
    "    \n",
    "      ## sort \n",
    "     def sort_card(self):\n",
    "         self.cards.sort() \n",
    "  \n",
    "     def move_cards(self, hand, num):\n",
    "        for i in range(num):\n",
    "            hand.add_card(self.pop_card())\n",
    "            \n",
    "            "
   ]
  },
  {
   "cell_type": "code",
   "execution_count": 54,
   "metadata": {},
   "outputs": [],
   "source": [
    "deck.move_cards(hand, 2)"
   ]
  },
  {
   "cell_type": "code",
   "execution_count": 55,
   "metadata": {},
   "outputs": [
    {
     "name": "stdout",
     "output_type": "stream",
     "text": [
      "King of Spades\n",
      "Queen of Spades\n",
      "Jack of Spades\n"
     ]
    }
   ],
   "source": [
    "print(hand)"
   ]
  }
 ],
 "metadata": {
  "kernelspec": {
   "display_name": "Python 3",
   "language": "python",
   "name": "python3"
  },
  "language_info": {
   "codemirror_mode": {
    "name": "ipython",
    "version": 3
   },
   "file_extension": ".py",
   "mimetype": "text/x-python",
   "name": "python",
   "nbconvert_exporter": "python",
   "pygments_lexer": "ipython3",
   "version": "3.8.1"
  }
 },
 "nbformat": 4,
 "nbformat_minor": 4
}
