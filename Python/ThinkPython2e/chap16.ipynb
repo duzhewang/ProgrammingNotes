{
 "cells": [
  {
   "cell_type": "markdown",
   "metadata": {},
   "source": [
    "## Chapter 16 Classes and functions"
   ]
  },
  {
   "cell_type": "markdown",
   "metadata": {},
   "source": [
    "### 16.1 Time"
   ]
  },
  {
   "cell_type": "code",
   "execution_count": 1,
   "metadata": {},
   "outputs": [],
   "source": [
    "class Time:\n",
    "    \"\"\"Represents the time of day.\n",
    "    attributes: hour, minute, second\n",
    "    \"\"\""
   ]
  },
  {
   "cell_type": "code",
   "execution_count": 2,
   "metadata": {},
   "outputs": [],
   "source": [
    "time=Time()\n",
    "time.hour=11\n",
    "time.minute=59\n",
    "time.second=30"
   ]
  },
  {
   "cell_type": "code",
   "execution_count": 9,
   "metadata": {},
   "outputs": [],
   "source": [
    "def print_time(time):\n",
    "    print(\"{}:{}:{}\".format(time.hour, time.minute, time.second))"
   ]
  },
  {
   "cell_type": "code",
   "execution_count": 10,
   "metadata": {},
   "outputs": [
    {
     "name": "stdout",
     "output_type": "stream",
     "text": [
      "11:59:30\n"
     ]
    }
   ],
   "source": [
    "print_time(time)"
   ]
  },
  {
   "cell_type": "markdown",
   "metadata": {},
   "source": [
    "### 16.2 Pure functions"
   ]
  },
  {
   "cell_type": "code",
   "execution_count": 12,
   "metadata": {},
   "outputs": [],
   "source": [
    "def add_time(t1, t2):\n",
    "    sum=Time()\n",
    "    sum.hour=t1.hour+t2.hour\n",
    "    sum.minute=t1.minute+t2.minute\n",
    "    sum.second=t1.second+t2.second\n",
    "    return sum\n"
   ]
  },
  {
   "cell_type": "code",
   "execution_count": 13,
   "metadata": {},
   "outputs": [],
   "source": [
    "start=Time()\n",
    "start.hour=9\n",
    "start.minute=45\n",
    "start.second=0"
   ]
  },
  {
   "cell_type": "code",
   "execution_count": 15,
   "metadata": {},
   "outputs": [],
   "source": [
    "duration=Time()\n",
    "duration.hour=1\n",
    "duration.minute=35\n",
    "duration.second=0"
   ]
  },
  {
   "cell_type": "code",
   "execution_count": 16,
   "metadata": {},
   "outputs": [
    {
     "name": "stdout",
     "output_type": "stream",
     "text": [
      "10:80:0\n"
     ]
    }
   ],
   "source": [
    "done=add_time(start, duration)\n",
    "print_time(done)"
   ]
  },
  {
   "cell_type": "code",
   "execution_count": 18,
   "metadata": {},
   "outputs": [],
   "source": [
    "def add_time(t1, t2):\n",
    "    sum=Time()\n",
    "    sum.hour=t1.hour+t2.hour\n",
    "    sum.minute=t1.minute+t2.minute\n",
    "    sum.second=t1.second+t2.second\n",
    "    \n",
    "    if sum.second>=60:\n",
    "        sum.second-=60\n",
    "        sum.minute+=1\n",
    "        \n",
    "    if sum.minute>=60:\n",
    "        sum.minute-=60\n",
    "        sum.hour+=1\n",
    "        \n",
    "    return sum    \n",
    "        \n",
    "    "
   ]
  },
  {
   "cell_type": "code",
   "execution_count": 19,
   "metadata": {},
   "outputs": [
    {
     "name": "stdout",
     "output_type": "stream",
     "text": [
      "11:20:0\n"
     ]
    }
   ],
   "source": [
    "done=add_time(start, duration)\n",
    "print_time(done)"
   ]
  },
  {
   "cell_type": "markdown",
   "metadata": {},
   "source": [
    "### 16.3 Modifiers "
   ]
  },
  {
   "cell_type": "code",
   "execution_count": 37,
   "metadata": {},
   "outputs": [],
   "source": [
    "def increment(time, seconds):\n",
    "    time.second+=seconds\n",
    "    \n",
    "    if time.second>=60:\n",
    "        time.second-=60\n",
    "        time.minute+=1\n",
    "    if time.minute>=60:\n",
    "        time.minute-=60\n",
    "        time.hour+=1\n",
    "    return time    \n",
    "        "
   ]
  },
  {
   "cell_type": "code",
   "execution_count": 38,
   "metadata": {},
   "outputs": [
    {
     "name": "stdout",
     "output_type": "stream",
     "text": [
      "9:11:640\n"
     ]
    }
   ],
   "source": [
    "t3=Time()\n",
    "t3.hour=9\n",
    "t3.minute=10\n",
    "t3.second=0\n",
    "\n",
    "done=increment(t3, 700)\n",
    "print_time(done)"
   ]
  },
  {
   "cell_type": "code",
   "execution_count": 39,
   "metadata": {},
   "outputs": [],
   "source": [
    "def increment(time, seconds):\n",
    "    time.second+=seconds\n",
    "    \n",
    "    while time.second>=60:\n",
    "        time.second-=60\n",
    "        time.minute+=1\n",
    "        \n",
    "    while time.minute>=60:\n",
    "        time.minute-=60\n",
    "        time.hour+=1\n",
    "        \n",
    "    return time    "
   ]
  },
  {
   "cell_type": "code",
   "execution_count": 40,
   "metadata": {},
   "outputs": [
    {
     "name": "stdout",
     "output_type": "stream",
     "text": [
      "9:21:40\n"
     ]
    }
   ],
   "source": [
    "t4=Time()\n",
    "t4.hour=9\n",
    "t4.minute=10\n",
    "t4.second=0\n",
    "\n",
    "done=increment(t4, 700)\n",
    "print_time(done)"
   ]
  },
  {
   "cell_type": "markdown",
   "metadata": {},
   "source": [
    "### 16.4 Prototyping versus planning"
   ]
  },
  {
   "cell_type": "code",
   "execution_count": 41,
   "metadata": {},
   "outputs": [],
   "source": [
    "def time_to_int(time):\n",
    "    minutes=time.hour*60+time.minute\n",
    "    seconds=minutes*60+time.second\n",
    "    return seconds"
   ]
  },
  {
   "cell_type": "code",
   "execution_count": 45,
   "metadata": {},
   "outputs": [],
   "source": [
    "def int_to_time(seconds):\n",
    "    time=Time()\n",
    "    minutes, time.second=divmod(seconds, 60)\n",
    "    time.hour, time.minute=divmod(minutes, 60)\n",
    "    return time"
   ]
  },
  {
   "cell_type": "code",
   "execution_count": 47,
   "metadata": {},
   "outputs": [
    {
     "name": "stdout",
     "output_type": "stream",
     "text": [
      "0:1:40\n"
     ]
    }
   ],
   "source": [
    "t5=int_to_time(100)\n",
    "print_time(t5)"
   ]
  },
  {
   "cell_type": "code",
   "execution_count": 48,
   "metadata": {},
   "outputs": [
    {
     "data": {
      "text/plain": [
       "100"
      ]
     },
     "execution_count": 48,
     "metadata": {},
     "output_type": "execute_result"
    }
   ],
   "source": [
    "time_to_int(t5)"
   ]
  },
  {
   "cell_type": "code",
   "execution_count": 50,
   "metadata": {},
   "outputs": [],
   "source": [
    "def add_time(t1, t2):\n",
    "    seconds=time_to_int(t1)+time_to_int(t2)\n",
    "    return int_to_time(seconds)"
   ]
  }
 ],
 "metadata": {
  "kernelspec": {
   "display_name": "Python 3",
   "language": "python",
   "name": "python3"
  },
  "language_info": {
   "codemirror_mode": {
    "name": "ipython",
    "version": 3
   },
   "file_extension": ".py",
   "mimetype": "text/x-python",
   "name": "python",
   "nbconvert_exporter": "python",
   "pygments_lexer": "ipython3",
   "version": "3.8.1"
  }
 },
 "nbformat": 4,
 "nbformat_minor": 4
}
