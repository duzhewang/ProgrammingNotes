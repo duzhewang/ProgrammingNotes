{
 "cells": [
  {
   "cell_type": "markdown",
   "metadata": {},
   "source": [
    "## Chapter 17 Classes and methods"
   ]
  },
  {
   "cell_type": "markdown",
   "metadata": {},
   "source": [
    "### 17.1 Object-oriented features\n",
    "\n",
    "Python is an object-oriented programming, which means that it provides features that support object-oriented programming, which has these defining characteristics:\n",
    "\n",
    "- Programs include class and method definitions\n",
    "- Most of the computation is expressed in terms of operations on objects\n",
    "- Objects often represent things in the real world, and methods often correspond to the ways things in the real world interact. "
   ]
  },
  {
   "cell_type": "markdown",
   "metadata": {},
   "source": [
    "A method is a function that is associated with a particular class. "
   ]
  },
  {
   "cell_type": "markdown",
   "metadata": {},
   "source": [
    "Methods are semantically the same as functions, but there are two syntactic differences:\n",
    "\n",
    "- Methods are defined inside a class definition in order to make the relationship between the class and the method explicit. \n",
    "\n",
    "- The syntax for invoking a method is different from the syntax for calling a function."
   ]
  },
  {
   "cell_type": "markdown",
   "metadata": {},
   "source": [
    "### 17.2 Printing objects"
   ]
  },
  {
   "cell_type": "code",
   "execution_count": 70,
   "metadata": {},
   "outputs": [],
   "source": [
    "class Time:\n",
    "    \"\"\"Represents the time of day.\n",
    "    \"\"\"\n",
    "    \n",
    "def print_time(time):   \n",
    "    print(\"{}:{}:{}\".format(time.hour, time.minute, time.second))"
   ]
  },
  {
   "cell_type": "code",
   "execution_count": 71,
   "metadata": {},
   "outputs": [],
   "source": [
    "start=Time()"
   ]
  },
  {
   "cell_type": "code",
   "execution_count": 72,
   "metadata": {},
   "outputs": [],
   "source": [
    "start.hour=9"
   ]
  },
  {
   "cell_type": "code",
   "execution_count": 73,
   "metadata": {},
   "outputs": [],
   "source": [
    "start.minute=45"
   ]
  },
  {
   "cell_type": "code",
   "execution_count": 74,
   "metadata": {},
   "outputs": [],
   "source": [
    "start.second=00"
   ]
  },
  {
   "cell_type": "code",
   "execution_count": 75,
   "metadata": {},
   "outputs": [
    {
     "name": "stdout",
     "output_type": "stream",
     "text": [
      "9:45:0\n"
     ]
    }
   ],
   "source": [
    "print_time(start)"
   ]
  },
  {
   "cell_type": "markdown",
   "metadata": {},
   "source": [
    "To make ```print_time``` a method, all we have to do is move the function definition inside the class definition. "
   ]
  },
  {
   "cell_type": "code",
   "execution_count": 76,
   "metadata": {},
   "outputs": [],
   "source": [
    "class Time:\n",
    "    def print_time(time):\n",
    "         print(\"{}:{}:{}\".format(time.hour, time.minute, time.second))"
   ]
  },
  {
   "cell_type": "markdown",
   "metadata": {},
   "source": [
    "Now there are two ways to call ```print_time```. The first (and less common) way is to use function syntax: "
   ]
  },
  {
   "cell_type": "code",
   "execution_count": 77,
   "metadata": {},
   "outputs": [
    {
     "name": "stdout",
     "output_type": "stream",
     "text": [
      "9:45:0\n"
     ]
    }
   ],
   "source": [
    "Time.print_time(start)\n",
    "# in this use of dot notation, Time is the name of the class, and print_time is the name of the method. \n",
    "# start is passed as a parameter.   "
   ]
  },
  {
   "cell_type": "markdown",
   "metadata": {},
   "source": [
    "The second (and more concise) way is to use method syntax."
   ]
  },
  {
   "cell_type": "code",
   "execution_count": 78,
   "metadata": {},
   "outputs": [
    {
     "ename": "AttributeError",
     "evalue": "'Time' object has no attribute 'print_time'",
     "output_type": "error",
     "traceback": [
      "\u001b[0;31m---------------------------------------------------------------------------\u001b[0m",
      "\u001b[0;31mAttributeError\u001b[0m                            Traceback (most recent call last)",
      "\u001b[0;32m<ipython-input-78-a4400bef56fe>\u001b[0m in \u001b[0;36m<module>\u001b[0;34m\u001b[0m\n\u001b[0;32m----> 1\u001b[0;31m \u001b[0mstart\u001b[0m\u001b[0;34m.\u001b[0m\u001b[0mprint_time\u001b[0m\u001b[0;34m(\u001b[0m\u001b[0;34m)\u001b[0m\u001b[0;34m\u001b[0m\u001b[0;34m\u001b[0m\u001b[0m\n\u001b[0m",
      "\u001b[0;31mAttributeError\u001b[0m: 'Time' object has no attribute 'print_time'"
     ]
    }
   ],
   "source": [
    "start.print_time()"
   ]
  },
  {
   "cell_type": "code",
   "execution_count": 79,
   "metadata": {},
   "outputs": [
    {
     "name": "stdout",
     "output_type": "stream",
     "text": [
      "Help on Time in module __main__ object:\n",
      "\n",
      "class Time(builtins.object)\n",
      " |  Represents the time of day.\n",
      " |  \n",
      " |  Data descriptors defined here:\n",
      " |  \n",
      " |  __dict__\n",
      " |      dictionary for instance variables (if defined)\n",
      " |  \n",
      " |  __weakref__\n",
      " |      list of weak references to the object (if defined)\n",
      "\n"
     ]
    }
   ],
   "source": [
    "help(start)\n",
    "# note this start is made by the original Time class. "
   ]
  },
  {
   "cell_type": "code",
   "execution_count": 104,
   "metadata": {},
   "outputs": [
    {
     "name": "stdout",
     "output_type": "stream",
     "text": [
      "Help on class Time in module __main__:\n",
      "\n",
      "class Time(builtins.object)\n",
      " |  Methods defined here:\n",
      " |  \n",
      " |  time_to_int(self)\n",
      " |  \n",
      " |  ----------------------------------------------------------------------\n",
      " |  Data descriptors defined here:\n",
      " |  \n",
      " |  __dict__\n",
      " |      dictionary for instance variables (if defined)\n",
      " |  \n",
      " |  __weakref__\n",
      " |      list of weak references to the object (if defined)\n",
      "\n"
     ]
    }
   ],
   "source": [
    "help(Time)\n",
    "# note this Time class is the new version."
   ]
  },
  {
   "cell_type": "markdown",
   "metadata": {},
   "source": [
    "https://stackoverflow.com/questions/28811167/why-do-i-get-an-attributeerror-on-a-class-even-though-i-defined-a-method-with-t/28814590"
   ]
  },
  {
   "cell_type": "markdown",
   "metadata": {},
   "source": [
    "The following one is the correct version of the second way:"
   ]
  },
  {
   "cell_type": "code",
   "execution_count": 82,
   "metadata": {},
   "outputs": [],
   "source": [
    "restart=Time()\n",
    "restart.hour=9\n",
    "restart.minute=45\n",
    "restart.second=0"
   ]
  },
  {
   "cell_type": "code",
   "execution_count": 88,
   "metadata": {},
   "outputs": [
    {
     "name": "stdout",
     "output_type": "stream",
     "text": [
      "9:45:0\n"
     ]
    }
   ],
   "source": [
    "restart.print_time()"
   ]
  },
  {
   "cell_type": "markdown",
   "metadata": {},
   "source": [
    "By convention, the first parameter of a method is called ```self```, so it would be more common to write ```print_time``` like this:"
   ]
  },
  {
   "cell_type": "code",
   "execution_count": 98,
   "metadata": {},
   "outputs": [],
   "source": [
    "class Time:\n",
    "    def print_time(self):\n",
    "        print(\"{}:{}:{}\".format(self.hour, self.minute, self.second))"
   ]
  },
  {
   "cell_type": "markdown",
   "metadata": {},
   "source": [
    "The reason for this convention is an implicit metaphor:\n",
    "\n",
    "- The syntax for a function call, print_time(start), suggests that the function is the active agent. It says something like, \"Hey print_time! Here's an object for you to print.\"\n",
    "\n",
    "- In object-oriented programming, the objects are the active agents. A method incovation like start.print_time() says \"Hey start! please print yourself.\""
   ]
  },
  {
   "cell_type": "markdown",
   "metadata": {},
   "source": [
    "**Exercise**:"
   ]
  },
  {
   "cell_type": "code",
   "execution_count": 102,
   "metadata": {},
   "outputs": [],
   "source": [
    "class Time:\n",
    "    def time_to_int(self):\n",
    "        minutes=self.hour*60+self.minute\n",
    "        seconds=minutes*60+self.second\n",
    "        return seconds\n",
    "    "
   ]
  },
  {
   "cell_type": "code",
   "execution_count": 103,
   "metadata": {},
   "outputs": [
    {
     "data": {
      "text/plain": [
       "35100"
      ]
     },
     "execution_count": 103,
     "metadata": {},
     "output_type": "execute_result"
    }
   ],
   "source": [
    "newtime=Time()\n",
    "newtime.hour=9\n",
    "newtime.minute=45\n",
    "newtime.second=0\n",
    "newtime.time_to_int()"
   ]
  },
  {
   "cell_type": "markdown",
   "metadata": {},
   "source": [
    "### 17.3 Another example"
   ]
  },
  {
   "cell_type": "code",
   "execution_count": 144,
   "metadata": {},
   "outputs": [],
   "source": [
    "class Time:\n",
    "    \"\"\"Represents time of day.\n",
    "    \"\"\"\n",
    "    def print_time(self):\n",
    "        print(\"{}:{}:{}\".format(self.hour, self.minute, self.second))\n",
    "        \n",
    "    def time_to_int(self):\n",
    "        minutes=self.hour*60+self.minute\n",
    "        seconds=minutes*60+self.second\n",
    "        return seconds\n",
    "    \n",
    "    def int_to_time(seconds):\n",
    "         minutes, self.second = divmod(seconds, 60)\n",
    "         self.hour, self.minute = divmod(minutes, 60)\n",
    "         return self\n",
    "\n",
    "\n",
    "    def increment(self, seconds):\n",
    "        seconds+=self.time_to_int()\n",
    "        return int_to_time(seconds)\n",
    "        "
   ]
  },
  {
   "cell_type": "code",
   "execution_count": 145,
   "metadata": {},
   "outputs": [
    {
     "name": "stdout",
     "output_type": "stream",
     "text": [
      "9:45:0\n"
     ]
    }
   ],
   "source": [
    "newtime=Time()\n",
    "newtime.hour=9\n",
    "newtime.minute=45\n",
    "newtime.second=0\n",
    "newtime.print_time()"
   ]
  },
  {
   "cell_type": "code",
   "execution_count": 146,
   "metadata": {},
   "outputs": [
    {
     "data": {
      "text/plain": [
       "35100"
      ]
     },
     "execution_count": 146,
     "metadata": {},
     "output_type": "execute_result"
    }
   ],
   "source": [
    "newtime.time_to_int()"
   ]
  },
  {
   "cell_type": "code",
   "execution_count": 147,
   "metadata": {},
   "outputs": [],
   "source": [
    "end=newtime.increment(1337)"
   ]
  },
  {
   "cell_type": "code",
   "execution_count": 148,
   "metadata": {},
   "outputs": [
    {
     "name": "stdout",
     "output_type": "stream",
     "text": [
      "10:7:17\n"
     ]
    }
   ],
   "source": [
    "end.print_time()"
   ]
  },
  {
   "cell_type": "markdown",
   "metadata": {},
   "source": [
    "### 17.4 A more complicated example"
   ]
  },
  {
   "cell_type": "code",
   "execution_count": 149,
   "metadata": {},
   "outputs": [],
   "source": [
    "class Time:\n",
    "    \"\"\"Represents time of day.\n",
    "    \"\"\"\n",
    "    def print_time(self):\n",
    "        print(\"{}:{}:{}\".format(self.hour, self.minute, self.second))\n",
    "        \n",
    "    def time_to_int(self):\n",
    "        minutes=self.hour*60+self.minute\n",
    "        seconds=minutes*60+self.second\n",
    "        return seconds\n",
    "    \n",
    "    def int_to_time(seconds):\n",
    "         minutes, self.second = divmod(seconds, 60)\n",
    "         self.hour, self.minute = divmod(minutes, 60)\n",
    "         return self\n",
    "\n",
    "\n",
    "    def increment(self, seconds):\n",
    "        seconds+=self.time_to_int()\n",
    "        return int_to_time(seconds)\n",
    "    \n",
    "    def is_after(self, other):\n",
    "        return self.time_to_int()>other.time_to_int()\n",
    "        "
   ]
  },
  {
   "cell_type": "code",
   "execution_count": 151,
   "metadata": {},
   "outputs": [
    {
     "name": "stdout",
     "output_type": "stream",
     "text": [
      "10:7:17\n"
     ]
    },
    {
     "data": {
      "text/plain": [
       "True"
      ]
     },
     "execution_count": 151,
     "metadata": {},
     "output_type": "execute_result"
    }
   ],
   "source": [
    "newtime=Time()\n",
    "newtime.hour=9\n",
    "newtime.minute=45\n",
    "newtime.second=0\n",
    "\n",
    "end=newtime.increment(1337)\n",
    "end.print_time()\n",
    "end.is_after(newtime)\n",
    "\n",
    "\n",
    "\n",
    "\n",
    "\n",
    "\n"
   ]
  },
  {
   "cell_type": "markdown",
   "metadata": {},
   "source": [
    "### 17.5 The ```__init__``` method\n",
    "\n",
    "The init method (short for initialization) is a special method that gets invoked when an object is instantiated. "
   ]
  },
  {
   "cell_type": "code",
   "execution_count": 1,
   "metadata": {},
   "outputs": [],
   "source": [
    "class Time:\n",
    "    \"\"\"Represents time of day.\n",
    "    \"\"\"\n",
    "    def __init__(self, hour=0, minute=0, second=0):\n",
    "        self.hour=hour\n",
    "        self.minute=minute\n",
    "        self.second=second\n",
    "        \n",
    "    def print_time(self):\n",
    "        print(\"{}:{}:{}\".format(self.hour, self.minute, self.second))\n",
    "        \n",
    "    def time_to_int(self):\n",
    "        minutes=self.hour*60+self.minute\n",
    "        seconds=minutes*60+self.second\n",
    "        return seconds\n",
    "    \n",
    "    def int_to_time(seconds):\n",
    "         minutes, self.second = divmod(seconds, 60)\n",
    "         self.hour, self.minute = divmod(minutes, 60)\n",
    "         return self\n",
    "\n",
    "\n",
    "    def increment(self, seconds):\n",
    "        seconds+=self.time_to_int()\n",
    "        return int_to_time(seconds)\n",
    "    \n",
    "    def is_after(self, other):\n",
    "        return self.time_to_int()>other.time_to_int()\n",
    "        "
   ]
  },
  {
   "cell_type": "code",
   "execution_count": 2,
   "metadata": {},
   "outputs": [],
   "source": [
    "start=Time()"
   ]
  },
  {
   "cell_type": "code",
   "execution_count": 3,
   "metadata": {},
   "outputs": [
    {
     "name": "stdout",
     "output_type": "stream",
     "text": [
      "0:0:0\n"
     ]
    }
   ],
   "source": [
    "start.print_time()"
   ]
  },
  {
   "cell_type": "code",
   "execution_count": 4,
   "metadata": {},
   "outputs": [],
   "source": [
    "start=Time(9)"
   ]
  },
  {
   "cell_type": "code",
   "execution_count": 5,
   "metadata": {},
   "outputs": [
    {
     "name": "stdout",
     "output_type": "stream",
     "text": [
      "9:0:0\n"
     ]
    }
   ],
   "source": [
    "start.print_time()"
   ]
  },
  {
   "cell_type": "code",
   "execution_count": 6,
   "metadata": {
    "scrolled": true
   },
   "outputs": [
    {
     "name": "stdout",
     "output_type": "stream",
     "text": [
      "9:45:0\n"
     ]
    }
   ],
   "source": [
    "start=Time(9, 45, 0)\n",
    "start.print_time()"
   ]
  },
  {
   "cell_type": "code",
   "execution_count": 7,
   "metadata": {},
   "outputs": [
    {
     "name": "stdout",
     "output_type": "stream",
     "text": [
      "9:45:10\n"
     ]
    }
   ],
   "source": [
    "start=Time(9, 45, 10)\n",
    "start.print_time()"
   ]
  },
  {
   "cell_type": "markdown",
   "metadata": {},
   "source": [
    "**Exercise**"
   ]
  },
  {
   "cell_type": "code",
   "execution_count": 161,
   "metadata": {},
   "outputs": [],
   "source": [
    "class Point:\n",
    "    \"\"\"Represents a point in 2-D space.\n",
    "    \"\"\"\n",
    "    def __init__(self, x=0, y=0):\n",
    "        self.x=x\n",
    "        self.y=y\n",
    "        \n",
    "    def print_point(self):\n",
    "        print(\"({}, {})\".format(self.x, self.y))"
   ]
  },
  {
   "cell_type": "code",
   "execution_count": 162,
   "metadata": {},
   "outputs": [],
   "source": [
    "point=Point()"
   ]
  },
  {
   "cell_type": "code",
   "execution_count": 163,
   "metadata": {},
   "outputs": [
    {
     "name": "stdout",
     "output_type": "stream",
     "text": [
      "(0, 0)\n"
     ]
    }
   ],
   "source": [
    "point.print_point()"
   ]
  },
  {
   "cell_type": "code",
   "execution_count": 164,
   "metadata": {},
   "outputs": [],
   "source": [
    "point=Point(10, 20)"
   ]
  },
  {
   "cell_type": "code",
   "execution_count": 166,
   "metadata": {},
   "outputs": [
    {
     "name": "stdout",
     "output_type": "stream",
     "text": [
      "(10, 20)\n"
     ]
    }
   ],
   "source": [
    "point.print_point()"
   ]
  },
  {
   "cell_type": "markdown",
   "metadata": {},
   "source": [
    "### 17.6 The ```__str__``` method\n",
    "\n",
    "```__str__``` is a special method, like ```__int__```, that is supposed to return a string representation of an object."
   ]
  },
  {
   "cell_type": "code",
   "execution_count": 13,
   "metadata": {},
   "outputs": [],
   "source": [
    "class Time:\n",
    "    \"\"\"Represents time of day.\n",
    "    \"\"\"\n",
    "    def __init__(self, hour=0, minute=0, second=0):\n",
    "        self.hour=hour\n",
    "        self.minute=minute\n",
    "        self.second=second\n",
    "        \n",
    "    def __str__(self):\n",
    "        return \"{}:{}:{}\".format(self.hour, self.minute, self.second) \n",
    "    \n",
    "    \n",
    "    def print_time(self):\n",
    "        print(\"{}:{}:{}\".format(self.hour, self.minute, self.second))\n",
    "        \n",
    "    def time_to_int(self):\n",
    "        minutes=self.hour*60+self.minute\n",
    "        seconds=minutes*60+self.second\n",
    "        return seconds\n",
    "    \n",
    "    def int_to_time(seconds):\n",
    "         minutes, self.second = divmod(seconds, 60)\n",
    "         self.hour, self.minute = divmod(minutes, 60)\n",
    "         return self\n",
    "\n",
    "\n",
    "    def increment(self, seconds):\n",
    "        seconds+=self.time_to_int()\n",
    "        return int_to_time(seconds)\n",
    "    \n",
    "    def is_after(self, other):\n",
    "        return self.time_to_int()>other.time_to_int()\n",
    "        "
   ]
  },
  {
   "cell_type": "code",
   "execution_count": 14,
   "metadata": {},
   "outputs": [],
   "source": [
    "time=Time(9, 45, 10)"
   ]
  },
  {
   "cell_type": "code",
   "execution_count": 15,
   "metadata": {},
   "outputs": [
    {
     "name": "stdout",
     "output_type": "stream",
     "text": [
      "9:45:10\n"
     ]
    }
   ],
   "source": [
    "time.print_time()"
   ]
  },
  {
   "cell_type": "markdown",
   "metadata": {},
   "source": [
    "**When you print an obbject, Python invokes the str method**:"
   ]
  },
  {
   "cell_type": "code",
   "execution_count": 16,
   "metadata": {},
   "outputs": [
    {
     "name": "stdout",
     "output_type": "stream",
     "text": [
      "9:45:10\n"
     ]
    }
   ],
   "source": [
    "print(time)"
   ]
  },
  {
   "cell_type": "markdown",
   "metadata": {},
   "source": [
    "**Tip**: when writing a new class, start by writing ```__init__```, which makes it easier to instantiate objects, and ```__str__```, which is useful for debugging. "
   ]
  },
  {
   "cell_type": "markdown",
   "metadata": {},
   "source": [
    "**Exercise**:"
   ]
  },
  {
   "cell_type": "code",
   "execution_count": 17,
   "metadata": {},
   "outputs": [],
   "source": [
    "class Point:\n",
    "    \"\"\"Represents a point in 2D space.\n",
    "    \"\"\"\n",
    "    def __init__(self, x=0, y=0):\n",
    "        self.x=x\n",
    "        self.y=y\n",
    "        \n",
    "    def __str__(self):\n",
    "        return \"({}, {})\".format(self.x, self.y)\n",
    "    \n",
    "    \n",
    "    "
   ]
  },
  {
   "cell_type": "code",
   "execution_count": 18,
   "metadata": {},
   "outputs": [],
   "source": [
    "point=Point()"
   ]
  },
  {
   "cell_type": "code",
   "execution_count": 19,
   "metadata": {},
   "outputs": [
    {
     "name": "stdout",
     "output_type": "stream",
     "text": [
      "(0, 0)\n"
     ]
    }
   ],
   "source": [
    "print(point)"
   ]
  },
  {
   "cell_type": "code",
   "execution_count": 20,
   "metadata": {},
   "outputs": [],
   "source": [
    "point=Point(10, 20)"
   ]
  },
  {
   "cell_type": "code",
   "execution_count": 21,
   "metadata": {},
   "outputs": [
    {
     "name": "stdout",
     "output_type": "stream",
     "text": [
      "(10, 20)\n"
     ]
    }
   ],
   "source": [
    "print(point)"
   ]
  },
  {
   "cell_type": "markdown",
   "metadata": {},
   "source": [
    "### 17.7 Operator overloading\n",
    "\n",
    "See more at https://docs.python.org/3/reference/datamodel.html#specialnames"
   ]
  },
  {
   "cell_type": "code",
   "execution_count": 1,
   "metadata": {},
   "outputs": [],
   "source": [
    "def int_to_time(seconds):\n",
    "     self=Time()\n",
    "     minutes, self.second = divmod(seconds, 60)\n",
    "     self.hour, self.minute = divmod(minutes, 60)\n",
    "     return self\n",
    "\n",
    "\n",
    "\n",
    "class Time:\n",
    "    \"\"\"Represents time of day.\n",
    "    \"\"\"\n",
    "    def __init__(self, hour=0, minute=0, second=0):\n",
    "        self.hour=hour\n",
    "        self.minute=minute\n",
    "        self.second=second\n",
    "        \n",
    "    def __str__(self):\n",
    "        return \"{}:{}:{}\".format(self.hour, self.minute, self.second) \n",
    "    \n",
    "\n",
    "    def print_time(self):\n",
    "        print(\"{}:{}:{}\".format(self.hour, self.minute, self.second))\n",
    "        \n",
    "    def time_to_int(self):\n",
    "        minutes=self.hour*60+self.minute\n",
    "        seconds=minutes*60+self.second\n",
    "        return seconds\n",
    "\n",
    "\n",
    "    def __add__(self, other):\n",
    "        seconds=self.time_to_int()+other.time_to_int()\n",
    "        return int_to_time(seconds)\n",
    "          \n",
    "    def increment(self, seconds):\n",
    "        seconds+=self.time_to_int()\n",
    "        return int_to_time(seconds)\n",
    "    \n",
    "    def is_after(self, other):\n",
    "        return self.time_to_int()>other.time_to_int()\n",
    "    \n",
    "        "
   ]
  },
  {
   "cell_type": "code",
   "execution_count": 2,
   "metadata": {},
   "outputs": [],
   "source": [
    "start=Time(9, 45)"
   ]
  },
  {
   "cell_type": "code",
   "execution_count": 3,
   "metadata": {},
   "outputs": [
    {
     "name": "stdout",
     "output_type": "stream",
     "text": [
      "9:45:0\n"
     ]
    }
   ],
   "source": [
    "print(start)"
   ]
  },
  {
   "cell_type": "code",
   "execution_count": 4,
   "metadata": {},
   "outputs": [],
   "source": [
    "duration=Time(1, 36)"
   ]
  },
  {
   "cell_type": "code",
   "execution_count": 5,
   "metadata": {},
   "outputs": [
    {
     "name": "stdout",
     "output_type": "stream",
     "text": [
      "1:36:0\n"
     ]
    }
   ],
   "source": [
    "print(duration)"
   ]
  },
  {
   "cell_type": "code",
   "execution_count": 6,
   "metadata": {},
   "outputs": [
    {
     "name": "stdout",
     "output_type": "stream",
     "text": [
      "11:21:0\n"
     ]
    }
   ],
   "source": [
    "print(start+duration)"
   ]
  },
  {
   "cell_type": "code",
   "execution_count": 7,
   "metadata": {},
   "outputs": [],
   "source": [
    "end=start.increment(100)"
   ]
  },
  {
   "cell_type": "code",
   "execution_count": 8,
   "metadata": {},
   "outputs": [
    {
     "name": "stdout",
     "output_type": "stream",
     "text": [
      "9:46:40\n"
     ]
    }
   ],
   "source": [
    "print(end)"
   ]
  },
  {
   "cell_type": "markdown",
   "metadata": {},
   "source": [
    "**Exercise**"
   ]
  },
  {
   "cell_type": "code",
   "execution_count": 31,
   "metadata": {},
   "outputs": [],
   "source": [
    "class Point:\n",
    "    \"\"\"Represents a point in 2D space.\n",
    "    \"\"\"\n",
    "    def __init__(self, x=0, y=0):\n",
    "        self.x=x\n",
    "        self.y=y\n",
    "        \n",
    "    def __str__(self):\n",
    "        return \"({}, {})\".format(self.x, self.y)\n",
    "    \n",
    "    def __add__(self, other):\n",
    "        self.x+=other.x\n",
    "        self.y+=other.y\n",
    "        return self"
   ]
  },
  {
   "cell_type": "code",
   "execution_count": 32,
   "metadata": {},
   "outputs": [],
   "source": [
    "p1=Point(10,20)"
   ]
  },
  {
   "cell_type": "code",
   "execution_count": 33,
   "metadata": {},
   "outputs": [
    {
     "name": "stdout",
     "output_type": "stream",
     "text": [
      "(10, 20)\n"
     ]
    }
   ],
   "source": [
    "print(p1)"
   ]
  },
  {
   "cell_type": "code",
   "execution_count": 34,
   "metadata": {},
   "outputs": [],
   "source": [
    "p2=Point(20, 30)"
   ]
  },
  {
   "cell_type": "code",
   "execution_count": 35,
   "metadata": {},
   "outputs": [
    {
     "name": "stdout",
     "output_type": "stream",
     "text": [
      "(20, 30)\n"
     ]
    }
   ],
   "source": [
    "print(p2)"
   ]
  },
  {
   "cell_type": "code",
   "execution_count": 37,
   "metadata": {
    "scrolled": true
   },
   "outputs": [
    {
     "name": "stdout",
     "output_type": "stream",
     "text": [
      "(30, 50)\n"
     ]
    }
   ],
   "source": [
    "print(p1+p2)"
   ]
  },
  {
   "cell_type": "markdown",
   "metadata": {},
   "source": [
    "### 17.8 Type-baed dispatch"
   ]
  },
  {
   "cell_type": "code",
   "execution_count": 38,
   "metadata": {},
   "outputs": [],
   "source": [
    "def int_to_time(seconds):\n",
    "     self=Time()\n",
    "     minutes, self.second = divmod(seconds, 60)\n",
    "     self.hour, self.minute = divmod(minutes, 60)\n",
    "     return self\n",
    "\n",
    "\n",
    "\n",
    "class Time:\n",
    "    \"\"\"Represents time of day.\n",
    "    \"\"\"\n",
    "    def __init__(self, hour=0, minute=0, second=0):\n",
    "        self.hour=hour\n",
    "        self.minute=minute\n",
    "        self.second=second\n",
    "        \n",
    "    def __str__(self):\n",
    "        return \"{}:{}:{}\".format(self.hour, self.minute, self.second) \n",
    "    \n",
    "        \n",
    "    def time_to_int(self):\n",
    "        minutes=self.hour*60+self.minute\n",
    "        seconds=minutes*60+self.second\n",
    "        return seconds\n",
    "\n",
    "\n",
    "    def __add__(self, other):\n",
    "        if isinstance(other, Time):\n",
    "            return self.add_time(other)\n",
    "        else:\n",
    "            return self.increment(other)\n",
    "    \n",
    "    \n",
    "    def add_time(self, other):\n",
    "        seconds=self.time_to_int()+other.time_to_int()\n",
    "        return int_to_time(seconds)\n",
    "          \n",
    "    def increment(self, seconds):\n",
    "        seconds+=self.time_to_int()\n",
    "        return int_to_time(seconds)\n",
    "    \n",
    "    def is_after(self, other):\n",
    "        return self.time_to_int()>other.time_to_int()\n",
    "    \n",
    "        "
   ]
  },
  {
   "cell_type": "code",
   "execution_count": 39,
   "metadata": {},
   "outputs": [],
   "source": [
    "start=Time(9, 45)"
   ]
  },
  {
   "cell_type": "code",
   "execution_count": 41,
   "metadata": {},
   "outputs": [
    {
     "name": "stdout",
     "output_type": "stream",
     "text": [
      "9:45:0\n"
     ]
    }
   ],
   "source": [
    "print(start)"
   ]
  },
  {
   "cell_type": "code",
   "execution_count": 42,
   "metadata": {},
   "outputs": [],
   "source": [
    "duration=Time(1, 35)"
   ]
  },
  {
   "cell_type": "code",
   "execution_count": 43,
   "metadata": {},
   "outputs": [
    {
     "name": "stdout",
     "output_type": "stream",
     "text": [
      "1:35:0\n"
     ]
    }
   ],
   "source": [
    "print(duration)"
   ]
  },
  {
   "cell_type": "code",
   "execution_count": 44,
   "metadata": {},
   "outputs": [
    {
     "name": "stdout",
     "output_type": "stream",
     "text": [
      "11:20:0\n"
     ]
    }
   ],
   "source": [
    "print(start+duration)"
   ]
  },
  {
   "cell_type": "code",
   "execution_count": 45,
   "metadata": {},
   "outputs": [
    {
     "name": "stdout",
     "output_type": "stream",
     "text": [
      "10:7:17\n"
     ]
    }
   ],
   "source": [
    "print(start+1337)"
   ]
  }
 ],
 "metadata": {
  "kernelspec": {
   "display_name": "Python 3",
   "language": "python",
   "name": "python3"
  },
  "language_info": {
   "codemirror_mode": {
    "name": "ipython",
    "version": 3
   },
   "file_extension": ".py",
   "mimetype": "text/x-python",
   "name": "python",
   "nbconvert_exporter": "python",
   "pygments_lexer": "ipython3",
   "version": "3.8.1"
  }
 },
 "nbformat": 4,
 "nbformat_minor": 4
}
