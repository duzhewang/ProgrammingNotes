{
 "cells": [
  {
   "cell_type": "markdown",
   "metadata": {},
   "source": [
    "## Lesson 1 Getting started with SQL and bigQuery"
   ]
  },
  {
   "cell_type": "code",
   "execution_count": 1,
   "metadata": {
    "scrolled": false
   },
   "outputs": [
    {
     "name": "stdout",
     "output_type": "stream",
     "text": [
      "Duzhe Wang \n",
      "last updated: 2020-09-05 \n",
      "\n",
      "CPython 3.8.1\n",
      "IPython 7.12.0\n"
     ]
    }
   ],
   "source": [
    "%load_ext watermark\n",
    "%watermark -d -u -a \"Duzhe Wang\" -v "
   ]
  },
  {
   "cell_type": "markdown",
   "metadata": {},
   "source": [
    "First, check if we have installed the ```google-cloud-bigquery``` module. "
   ]
  },
  {
   "cell_type": "code",
   "execution_count": 2,
   "metadata": {
    "scrolled": false
   },
   "outputs": [
    {
     "name": "stdout",
     "output_type": "stream",
     "text": [
      "google-cloud-bigquery    1.27.2\r\n"
     ]
    }
   ],
   "source": [
    "!pip list|grep google-cloud-bigquery"
   ]
  },
  {
   "cell_type": "markdown",
   "metadata": {},
   "source": [
    "### The first step: create a ```Client``` object"
   ]
  },
  {
   "cell_type": "code",
   "execution_count": 3,
   "metadata": {},
   "outputs": [],
   "source": [
    "from google.cloud import bigquery"
   ]
  },
  {
   "cell_type": "code",
   "execution_count": 4,
   "metadata": {
    "scrolled": true
   },
   "outputs": [],
   "source": [
    "client=bigquery.Client()"
   ]
  },
  {
   "cell_type": "markdown",
   "metadata": {},
   "source": [
    "**Next**: construct a reference to the dataset with the ```dataset()``` method. Then use the ```get_dataset()``` method, along with the reference, to fetch the dataset."
   ]
  },
  {
   "cell_type": "code",
   "execution_count": 6,
   "metadata": {},
   "outputs": [],
   "source": [
    "# construct a reference to the \"hacker_news\" dataset\n",
    "dataset_ref=client.dataset(\"hacker_news\", project=\"bigquery-public-data\")"
   ]
  },
  {
   "cell_type": "code",
   "execution_count": 7,
   "metadata": {},
   "outputs": [],
   "source": [
    "# API request - fectch the dataset\n",
    "dataset=client.get_dataset(dataset_ref)"
   ]
  },
  {
   "cell_type": "code",
   "execution_count": 8,
   "metadata": {},
   "outputs": [],
   "source": [
    "# List all tables in the \"hacker_news\" dataset\n",
    "tables=list(client.list_tables(dataset))"
   ]
  },
  {
   "cell_type": "code",
   "execution_count": 9,
   "metadata": {},
   "outputs": [
    {
     "data": {
      "text/plain": [
       "[<google.cloud.bigquery.table.TableListItem at 0x10c1a8d60>,\n",
       " <google.cloud.bigquery.table.TableListItem at 0x1153c4eb0>,\n",
       " <google.cloud.bigquery.table.TableListItem at 0x1153c4fd0>,\n",
       " <google.cloud.bigquery.table.TableListItem at 0x1153c4160>]"
      ]
     },
     "execution_count": 9,
     "metadata": {},
     "output_type": "execute_result"
    }
   ],
   "source": [
    "tables"
   ]
  },
  {
   "cell_type": "code",
   "execution_count": 10,
   "metadata": {},
   "outputs": [
    {
     "name": "stdout",
     "output_type": "stream",
     "text": [
      "comments\n",
      "full\n",
      "full_201510\n",
      "stories\n"
     ]
    }
   ],
   "source": [
    "# print names of all tables in the dataset\n",
    "for table in tables:\n",
    "    print(table.table_id)"
   ]
  },
  {
   "cell_type": "markdown",
   "metadata": {},
   "source": [
    "**Next**: fetch a table"
   ]
  },
  {
   "cell_type": "code",
   "execution_count": 11,
   "metadata": {},
   "outputs": [],
   "source": [
    "table_ref=dataset_ref.table(\"full\")"
   ]
  },
  {
   "cell_type": "code",
   "execution_count": 12,
   "metadata": {},
   "outputs": [],
   "source": [
    "table=client.get_table(table_ref)"
   ]
  },
  {
   "cell_type": "code",
   "execution_count": 13,
   "metadata": {},
   "outputs": [
    {
     "data": {
      "text/plain": [
       "Table(TableReference(DatasetReference('bigquery-public-data', 'hacker_news'), 'full'))"
      ]
     },
     "execution_count": 13,
     "metadata": {},
     "output_type": "execute_result"
    }
   ],
   "source": [
    "table"
   ]
  },
  {
   "cell_type": "markdown",
   "metadata": {},
   "source": [
    "### Table schema: the structure of a table is called its schema"
   ]
  },
  {
   "cell_type": "code",
   "execution_count": 14,
   "metadata": {
    "scrolled": true
   },
   "outputs": [
    {
     "data": {
      "text/plain": [
       "[SchemaField('title', 'STRING', 'NULLABLE', 'Story title', (), None),\n",
       " SchemaField('url', 'STRING', 'NULLABLE', 'Story url', (), None),\n",
       " SchemaField('text', 'STRING', 'NULLABLE', 'Story or comment text', (), None),\n",
       " SchemaField('dead', 'BOOLEAN', 'NULLABLE', 'Is dead?', (), None),\n",
       " SchemaField('by', 'STRING', 'NULLABLE', \"The username of the item's author.\", (), None),\n",
       " SchemaField('score', 'INTEGER', 'NULLABLE', 'Story score', (), None),\n",
       " SchemaField('time', 'INTEGER', 'NULLABLE', 'Unix time', (), None),\n",
       " SchemaField('timestamp', 'TIMESTAMP', 'NULLABLE', 'Timestamp for the unix time', (), None),\n",
       " SchemaField('type', 'STRING', 'NULLABLE', 'Type of details (comment, comment_ranking, poll, story, job, pollopt)', (), None),\n",
       " SchemaField('id', 'INTEGER', 'NULLABLE', \"The item's unique id.\", (), None),\n",
       " SchemaField('parent', 'INTEGER', 'NULLABLE', 'Parent comment ID', (), None),\n",
       " SchemaField('descendants', 'INTEGER', 'NULLABLE', 'Number of story or poll descendants', (), None),\n",
       " SchemaField('ranking', 'INTEGER', 'NULLABLE', 'Comment ranking', (), None),\n",
       " SchemaField('deleted', 'BOOLEAN', 'NULLABLE', 'Is deleted?', (), None)]"
      ]
     },
     "execution_count": 14,
     "metadata": {},
     "output_type": "execute_result"
    }
   ],
   "source": [
    "table.schema"
   ]
  },
  {
   "cell_type": "code",
   "execution_count": 15,
   "metadata": {},
   "outputs": [
    {
     "name": "stderr",
     "output_type": "stream",
     "text": [
      "<ipython-input-15-d843ade6e5f1>:1: UserWarning: Cannot use bqstorage_client if max_results is set, reverting to fetching data with the tabledata.list endpoint.\n",
      "  client.list_rows(table, max_results=5).to_dataframe()\n",
      "<ipython-input-15-d843ade6e5f1>:1: PyarrowMissingWarning: Converting to a dataframe without pyarrow installed is often slower and will become unsupported in the future. Please install the pyarrow package.\n",
      "  client.list_rows(table, max_results=5).to_dataframe()\n"
     ]
    },
    {
     "data": {
      "text/html": [
       "<div>\n",
       "<style scoped>\n",
       "    .dataframe tbody tr th:only-of-type {\n",
       "        vertical-align: middle;\n",
       "    }\n",
       "\n",
       "    .dataframe tbody tr th {\n",
       "        vertical-align: top;\n",
       "    }\n",
       "\n",
       "    .dataframe thead th {\n",
       "        text-align: right;\n",
       "    }\n",
       "</style>\n",
       "<table border=\"1\" class=\"dataframe\">\n",
       "  <thead>\n",
       "    <tr style=\"text-align: right;\">\n",
       "      <th></th>\n",
       "      <th>title</th>\n",
       "      <th>url</th>\n",
       "      <th>text</th>\n",
       "      <th>dead</th>\n",
       "      <th>by</th>\n",
       "      <th>score</th>\n",
       "      <th>time</th>\n",
       "      <th>timestamp</th>\n",
       "      <th>type</th>\n",
       "      <th>id</th>\n",
       "      <th>parent</th>\n",
       "      <th>descendants</th>\n",
       "      <th>ranking</th>\n",
       "      <th>deleted</th>\n",
       "    </tr>\n",
       "  </thead>\n",
       "  <tbody>\n",
       "    <tr>\n",
       "      <th>0</th>\n",
       "      <td>None</td>\n",
       "      <td>None</td>\n",
       "      <td>The justification for going to go given here i...</td>\n",
       "      <td>None</td>\n",
       "      <td>The_rationalist</td>\n",
       "      <td>None</td>\n",
       "      <td>1590055883</td>\n",
       "      <td>2020-05-21 10:11:23+00:00</td>\n",
       "      <td>comment</td>\n",
       "      <td>23256678</td>\n",
       "      <td>23254045</td>\n",
       "      <td>None</td>\n",
       "      <td>None</td>\n",
       "      <td>None</td>\n",
       "    </tr>\n",
       "    <tr>\n",
       "      <th>1</th>\n",
       "      <td>None</td>\n",
       "      <td>None</td>\n",
       "      <td>He&amp;#x27;s still doing awesome stuff. See his b...</td>\n",
       "      <td>None</td>\n",
       "      <td>davepeck</td>\n",
       "      <td>None</td>\n",
       "      <td>1475590646</td>\n",
       "      <td>2016-10-04 14:17:26+00:00</td>\n",
       "      <td>comment</td>\n",
       "      <td>12635673</td>\n",
       "      <td>12633516</td>\n",
       "      <td>None</td>\n",
       "      <td>None</td>\n",
       "      <td>None</td>\n",
       "    </tr>\n",
       "    <tr>\n",
       "      <th>2</th>\n",
       "      <td>None</td>\n",
       "      <td>None</td>\n",
       "      <td>It is hard to predict the future, but despite ...</td>\n",
       "      <td>None</td>\n",
       "      <td>soneca</td>\n",
       "      <td>None</td>\n",
       "      <td>1587082178</td>\n",
       "      <td>2020-04-17 00:09:38+00:00</td>\n",
       "      <td>comment</td>\n",
       "      <td>22894933</td>\n",
       "      <td>22894608</td>\n",
       "      <td>None</td>\n",
       "      <td>None</td>\n",
       "      <td>None</td>\n",
       "    </tr>\n",
       "    <tr>\n",
       "      <th>3</th>\n",
       "      <td>None</td>\n",
       "      <td>None</td>\n",
       "      <td>Never take &amp;quot;realtime&amp;quot; seriously, unl...</td>\n",
       "      <td>None</td>\n",
       "      <td>tormeh</td>\n",
       "      <td>None</td>\n",
       "      <td>1440356944</td>\n",
       "      <td>2015-08-23 19:09:04+00:00</td>\n",
       "      <td>comment</td>\n",
       "      <td>10106423</td>\n",
       "      <td>10105793</td>\n",
       "      <td>None</td>\n",
       "      <td>None</td>\n",
       "      <td>None</td>\n",
       "    </tr>\n",
       "    <tr>\n",
       "      <th>4</th>\n",
       "      <td>None</td>\n",
       "      <td>None</td>\n",
       "      <td>I changed from LastPass to Bitwarden. Have bee...</td>\n",
       "      <td>None</td>\n",
       "      <td>shelune</td>\n",
       "      <td>None</td>\n",
       "      <td>1570456305</td>\n",
       "      <td>2019-10-07 13:51:45+00:00</td>\n",
       "      <td>comment</td>\n",
       "      <td>21180749</td>\n",
       "      <td>21175332</td>\n",
       "      <td>None</td>\n",
       "      <td>None</td>\n",
       "      <td>None</td>\n",
       "    </tr>\n",
       "  </tbody>\n",
       "</table>\n",
       "</div>"
      ],
      "text/plain": [
       "  title   url                                               text  dead  \\\n",
       "0  None  None  The justification for going to go given here i...  None   \n",
       "1  None  None  He&#x27;s still doing awesome stuff. See his b...  None   \n",
       "2  None  None  It is hard to predict the future, but despite ...  None   \n",
       "3  None  None  Never take &quot;realtime&quot; seriously, unl...  None   \n",
       "4  None  None  I changed from LastPass to Bitwarden. Have bee...  None   \n",
       "\n",
       "                by score        time                 timestamp     type  \\\n",
       "0  The_rationalist  None  1590055883 2020-05-21 10:11:23+00:00  comment   \n",
       "1         davepeck  None  1475590646 2016-10-04 14:17:26+00:00  comment   \n",
       "2           soneca  None  1587082178 2020-04-17 00:09:38+00:00  comment   \n",
       "3           tormeh  None  1440356944 2015-08-23 19:09:04+00:00  comment   \n",
       "4          shelune  None  1570456305 2019-10-07 13:51:45+00:00  comment   \n",
       "\n",
       "         id    parent descendants ranking deleted  \n",
       "0  23256678  23254045        None    None    None  \n",
       "1  12635673  12633516        None    None    None  \n",
       "2  22894933  22894608        None    None    None  \n",
       "3  10106423  10105793        None    None    None  \n",
       "4  21180749  21175332        None    None    None  "
      ]
     },
     "execution_count": 15,
     "metadata": {},
     "output_type": "execute_result"
    }
   ],
   "source": [
    "client.list_rows(table, max_results=5).to_dataframe()"
   ]
  },
  {
   "cell_type": "code",
   "execution_count": 16,
   "metadata": {},
   "outputs": [
    {
     "name": "stderr",
     "output_type": "stream",
     "text": [
      "<ipython-input-16-e2873c833eef>:1: UserWarning: Cannot use bqstorage_client if max_results is set, reverting to fetching data with the tabledata.list endpoint.\n",
      "  client.list_rows(table, selected_fields=table.schema[:1], max_results=5).to_dataframe()\n",
      "<ipython-input-16-e2873c833eef>:1: PyarrowMissingWarning: Converting to a dataframe without pyarrow installed is often slower and will become unsupported in the future. Please install the pyarrow package.\n",
      "  client.list_rows(table, selected_fields=table.schema[:1], max_results=5).to_dataframe()\n"
     ]
    },
    {
     "data": {
      "text/html": [
       "<div>\n",
       "<style scoped>\n",
       "    .dataframe tbody tr th:only-of-type {\n",
       "        vertical-align: middle;\n",
       "    }\n",
       "\n",
       "    .dataframe tbody tr th {\n",
       "        vertical-align: top;\n",
       "    }\n",
       "\n",
       "    .dataframe thead th {\n",
       "        text-align: right;\n",
       "    }\n",
       "</style>\n",
       "<table border=\"1\" class=\"dataframe\">\n",
       "  <thead>\n",
       "    <tr style=\"text-align: right;\">\n",
       "      <th></th>\n",
       "      <th>title</th>\n",
       "    </tr>\n",
       "  </thead>\n",
       "  <tbody>\n",
       "    <tr>\n",
       "      <th>0</th>\n",
       "      <td>None</td>\n",
       "    </tr>\n",
       "    <tr>\n",
       "      <th>1</th>\n",
       "      <td>None</td>\n",
       "    </tr>\n",
       "    <tr>\n",
       "      <th>2</th>\n",
       "      <td>None</td>\n",
       "    </tr>\n",
       "    <tr>\n",
       "      <th>3</th>\n",
       "      <td>None</td>\n",
       "    </tr>\n",
       "    <tr>\n",
       "      <th>4</th>\n",
       "      <td>None</td>\n",
       "    </tr>\n",
       "  </tbody>\n",
       "</table>\n",
       "</div>"
      ],
      "text/plain": [
       "  title\n",
       "0  None\n",
       "1  None\n",
       "2  None\n",
       "3  None\n",
       "4  None"
      ]
     },
     "execution_count": 16,
     "metadata": {},
     "output_type": "execute_result"
    }
   ],
   "source": [
    "client.list_rows(table, selected_fields=table.schema[:1], max_results=5).to_dataframe()"
   ]
  },
  {
   "cell_type": "code",
   "execution_count": null,
   "metadata": {},
   "outputs": [],
   "source": []
  }
 ],
 "metadata": {
  "kernelspec": {
   "display_name": "Python 3",
   "language": "python",
   "name": "python3"
  },
  "language_info": {
   "codemirror_mode": {
    "name": "ipython",
    "version": 3
   },
   "file_extension": ".py",
   "mimetype": "text/x-python",
   "name": "python",
   "nbconvert_exporter": "python",
   "pygments_lexer": "ipython3",
   "version": "3.8.1"
  }
 },
 "nbformat": 4,
 "nbformat_minor": 4
}
